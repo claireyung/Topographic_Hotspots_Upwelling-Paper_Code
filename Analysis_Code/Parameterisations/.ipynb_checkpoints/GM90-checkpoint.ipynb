{
 "cells": [
  {
   "cell_type": "markdown",
   "id": "43721ced-d85f-4004-ad56-3c4dd28e6f7d",
   "metadata": {},
   "source": [
    "### Comparing GM isopycnal slopes with transport across contours"
   ]
  },
  {
   "cell_type": "code",
   "execution_count": 1,
   "id": "651b0871-5386-42bd-bac4-993786a1490b",
   "metadata": {},
   "outputs": [],
   "source": [
    "%matplotlib inline\n",
    "\n",
    "import cosima_cookbook as cc\n",
    "import matplotlib.pyplot as plt\n",
    "import numpy as np\n",
    "import netCDF4 as nc\n",
    "import xarray as xr\n",
    "import cftime\n",
    "import glob\n",
    "import dask\n",
    "import os\n",
    "import datetime\n",
    "import matplotlib.colors as col\n",
    "import dask.array as dsa\n",
    "from cosima_cookbook import distributed as ccd\n",
    "import cartopy.crs as ccrs\n",
    "import cmocean as cm\n",
    "from scipy.ndimage.filters import uniform_filter1d\n",
    "import scipy.stats as ss\n",
    "from collections import OrderedDict\n",
    "\n",
    "import logging\n",
    "logging.captureWarnings(True)\n",
    "logging.getLogger('py.warnings').setLevel(logging.ERROR)\n",
    "\n",
    "from dask.distributed import Client"
   ]
  },
  {
   "cell_type": "markdown",
   "id": "b2b941ca-8118-4409-afda-65c38ae3f482",
   "metadata": {},
   "source": [
    "import gcm_filters"
   ]
  },
  {
   "cell_type": "code",
   "execution_count": 2,
   "id": "ba2fdd41-9aad-4855-b37e-bebefc5a804f",
   "metadata": {},
   "outputs": [
    {
     "data": {
      "text/html": [
       "<table style=\"border: 2px solid white;\">\n",
       "<tr>\n",
       "<td style=\"vertical-align: top; border: 0px solid white\">\n",
       "<h3 style=\"text-align: left;\">Client</h3>\n",
       "<ul style=\"text-align: left; list-style: none; margin: 0; padding: 0;\">\n",
       "  <li><b>Scheduler: </b>tcp://127.0.0.1:40313</li>\n",
       "  <li><b>Dashboard: </b><a href='/proxy/8787/status' target='_blank'>/proxy/8787/status</a></li>\n",
       "</ul>\n",
       "</td>\n",
       "<td style=\"vertical-align: top; border: 0px solid white\">\n",
       "<h3 style=\"text-align: left;\">Cluster</h3>\n",
       "<ul style=\"text-align: left; list-style:none; margin: 0; padding: 0;\">\n",
       "  <li><b>Workers: </b>4</li>\n",
       "  <li><b>Cores: </b>12</li>\n",
       "  <li><b>Memory: </b>48.00 GiB</li>\n",
       "</ul>\n",
       "</td>\n",
       "</tr>\n",
       "</table>"
      ],
      "text/plain": [
       "<Client: 'tcp://127.0.0.1:40313' processes=4 threads=12, memory=48.00 GiB>"
      ]
     },
     "execution_count": 2,
     "metadata": {},
     "output_type": "execute_result"
    }
   ],
   "source": [
    "client = Client()\n",
    "client"
   ]
  },
  {
   "cell_type": "code",
   "execution_count": 3,
   "id": "f3e4a675-a573-47e8-b271-59804ee0bf5d",
   "metadata": {},
   "outputs": [],
   "source": [
    "session = cc.database.create_session('/g/data/ik11/databases/cosima_master.db')"
   ]
  },
  {
   "cell_type": "markdown",
   "id": "c6346967-d9ee-4172-a916-2dbb5763776a",
   "metadata": {},
   "source": [
    "#### Load important params\n"
   ]
  },
  {
   "cell_type": "code",
   "execution_count": 4,
   "id": "cefa0f28-3072-4f12-be84-f272ad012e17",
   "metadata": {},
   "outputs": [],
   "source": [
    "year = '2170'\n",
    "expt = '01deg_jra55v13_ryf9091'\n",
    "\n",
    "start_time= year + '-01-01'\n",
    "end_time= year + '-12-31'\n",
    "\n",
    "# reference density value:\n",
    "rho_0 = 1035.0\n",
    "g = 9.81"
   ]
  },
  {
   "cell_type": "code",
   "execution_count": 5,
   "id": "d879fef2-aa0c-437b-b5e2-89c8617fc800",
   "metadata": {},
   "outputs": [],
   "source": [
    "## FULL SO ##\n",
    "lat_range = slice(-70,-34.99)\n",
    "lat_range_big =  slice(-70.05,-34.90)\n"
   ]
  },
  {
   "cell_type": "code",
   "execution_count": 6,
   "id": "1dd5c4c8-3a25-4599-a57d-f42a761742ee",
   "metadata": {},
   "outputs": [
    {
     "name": "stdout",
     "output_type": "stream",
     "text": [
      "CPU times: user 2 s, sys: 565 ms, total: 2.57 s\n",
      "Wall time: 16.4 s\n"
     ]
    }
   ],
   "source": [
    "%%time\n",
    "\n",
    "yt_ocean = cc.querying.getvar(expt,'yt_ocean',session,n=1)\n",
    "yt_ocean = yt_ocean.sel(yt_ocean=lat_range)\n",
    "xt_ocean = cc.querying.getvar(expt,'xt_ocean',session,n=1)\n"
   ]
  },
  {
   "cell_type": "code",
   "execution_count": 7,
   "id": "16d6bf49-ee7d-4de2-b9bd-2afd6558d08d",
   "metadata": {},
   "outputs": [
    {
     "name": "stdout",
     "output_type": "stream",
     "text": [
      "CPU times: user 768 ms, sys: 206 ms, total: 974 ms\n",
      "Wall time: 12.2 s\n"
     ]
    }
   ],
   "source": [
    "%%time\n",
    "\n",
    "dyt = cc.querying.getvar(expt,'dyt',session,ncfile = 'ocean_grid.nc',n=1)\n",
    "dyt = dyt.sel(yt_ocean = lat_range)\n",
    "dxt = cc.querying.getvar(expt,'dxt',session,ncfile = 'ocean_grid.nc',n=1)\n",
    "dxt = dxt.sel(yt_ocean = lat_range)"
   ]
  },
  {
   "cell_type": "code",
   "execution_count": 8,
   "id": "d38978c6-e560-403e-a7b9-a4d7e79bea88",
   "metadata": {},
   "outputs": [
    {
     "name": "stdout",
     "output_type": "stream",
     "text": [
      "CPU times: user 152 ms, sys: 0 ns, total: 152 ms\n",
      "Wall time: 294 ms\n"
     ]
    }
   ],
   "source": [
    "%%time\n",
    "\n",
    "dxu = cc.querying.getvar(expt,'dxu',session,ncfile = 'ocean_grid.nc',n=1)\n",
    "dxu = dxu.sel(yu_ocean = lat_range)\n",
    "dyu = cc.querying.getvar(expt,'dyu',session,ncfile = 'ocean_grid.nc',n=1)\n",
    "dyu = dxu.sel(yu_ocean = lat_range)"
   ]
  },
  {
   "cell_type": "code",
   "execution_count": 9,
   "id": "2699fa40-93f7-4b2c-91a4-19b3e70c15ab",
   "metadata": {},
   "outputs": [],
   "source": [
    "save_dir = '/g/data/x77/cy8964/Post_Process/New_SO/'\n",
    "h_bar = xr.open_dataset(save_dir+'h_bar_10yr.nc').h_bar"
   ]
  },
  {
   "cell_type": "markdown",
   "id": "0fa43e8f-bca8-48a3-8fc4-6b88841f5c65",
   "metadata": {},
   "source": [
    "# smoothing h_bar"
   ]
  },
  {
   "cell_type": "code",
   "execution_count": 13,
   "id": "bddb2b9b-7053-4bc7-97b1-2de491ebac57",
   "metadata": {},
   "outputs": [],
   "source": [
    "temp = cc.querying.getvar(expt,'temp',session,n=1, start_time = '2170-01-01').isel(time = 0)\n",
    "wet_mask = (temp.isel(st_ocean = 0)*0+1).fillna(0)\n",
    "wet_mask = wet_mask.sel(yt_ocean = lat_range)\n",
    "wet_mask = wet_mask.chunk({'xt_ocean':3600,'yt_ocean':700}).load()"
   ]
  },
  {
   "cell_type": "code",
   "execution_count": 14,
   "id": "76eb5fcc-80fd-4715-9010-fcc3cf519738",
   "metadata": {},
   "outputs": [],
   "source": [
    "area = dxt*dyt\n",
    "area = area.sel(yt_ocean = lat_range).chunk({'xt_ocean':3600,'yt_ocean':700}).load()"
   ]
  },
  {
   "cell_type": "code",
   "execution_count": 15,
   "id": "3682e0a8-8514-4bc6-8860-d40bc3617f85",
   "metadata": {},
   "outputs": [],
   "source": [
    "dxw = dxt.sel(yt_ocean = lat_range).chunk({'xt_ocean':3600,'yt_ocean':700})\n",
    "dyw = dyt.sel(yt_ocean = lat_range).chunk({'xt_ocean':3600,'yt_ocean':700})\n",
    "dxs = dxu.roll(yu_ocean = 1, roll_coords = False).sel(yu_ocean = lat_range).chunk({'xu_ocean':3600,'yu_ocean':700})\n",
    "dys = dyu.roll(yu_ocean = 1, roll_coords = False).sel(yu_ocean = lat_range).chunk({'xu_ocean':3600,'yu_ocean':700})\n",
    "dxs['yu_ocean']=yt_ocean.values\n",
    "dxs['xu_ocean']=xt_ocean.values\n",
    "dys['yu_ocean']=yt_ocean.values\n",
    "dys['xu_ocean']=xt_ocean.values\n",
    "dxs = dxs.rename({'yu_ocean':'yt_ocean','xu_ocean':'xt_ocean'})\n",
    "dys = dys.rename({'yu_ocean':'yt_ocean','xu_ocean':'xt_ocean'})\n",
    "kappa_w = xr.ones_like(dxw)\n",
    "kappa_s = xr.ones_like(dxw)"
   ]
  },
  {
   "cell_type": "code",
   "execution_count": 17,
   "id": "afa16147-b8a6-417d-ae04-7d78a95069ec",
   "metadata": {},
   "outputs": [],
   "source": [
    "dx_min = dxt.min().values"
   ]
  },
  {
   "cell_type": "code",
   "execution_count": 18,
   "id": "31abd434-0f0c-4dab-808b-3460ef600622",
   "metadata": {},
   "outputs": [
    {
     "data": {
      "text/plain": [
       "Filter(filter_scale=80000, dx_min=array(3803.1487, dtype=float32), filter_shape=<FilterShape.GAUSSIAN: 1>, transition_width=3.141592653589793, ndim=2, n_steps=24, grid_type=<GridType.IRREGULAR_WITH_LAND: 5>)"
      ]
     },
     "execution_count": 18,
     "metadata": {},
     "output_type": "execute_result"
    }
   ],
   "source": [
    "filter_80km = gcm_filters.Filter(\n",
    "    filter_scale=80000,\n",
    "    dx_min=dx_min,\n",
    "    filter_shape=gcm_filters.FilterShape.GAUSSIAN,\n",
    "    grid_type=gcm_filters.GridType.IRREGULAR_WITH_LAND,\n",
    "    grid_vars={\n",
    "        'wet_mask': wet_mask, \n",
    "        'dxw': dxw, 'dyw': dyw, 'dxs': dxs, 'dys': dys, 'area': area, \n",
    "        'kappa_w': kappa_w, 'kappa_s': kappa_s\n",
    "    }\n",
    ")\n",
    "filter_80km"
   ]
  },
  {
   "cell_type": "code",
   "execution_count": 21,
   "id": "c068178a-3d9c-4dbb-8bf0-59f5110de402",
   "metadata": {},
   "outputs": [],
   "source": [
    "h_bar = h_bar.chunk({'xt_ocean':3600,'yt_ocean':700})"
   ]
  },
  {
   "cell_type": "code",
   "execution_count": 22,
   "id": "dc2d7d95-90ba-474d-8eb1-88bd7716f60e",
   "metadata": {},
   "outputs": [],
   "source": [
    "h_bar_filtered_to_80km = filter_80km.apply(h_bar, dims=['yt_ocean', 'xt_ocean'])"
   ]
  },
  {
   "cell_type": "code",
   "execution_count": 23,
   "id": "657820dc-3a6c-402d-86d1-3013494e60b7",
   "metadata": {},
   "outputs": [
    {
     "name": "stdout",
     "output_type": "stream",
     "text": [
      "CPU times: user 16.3 ms, sys: 0 ns, total: 16.3 ms\n",
      "Wall time: 15.6 ms\n"
     ]
    }
   ],
   "source": [
    "%%time\n",
    "isopycnal_depth = h_bar_filtered_to_80km.where(h_bar_filtered_to_80km!=0).cumsum('isopycnal_bins')"
   ]
  },
  {
   "cell_type": "code",
   "execution_count": 24,
   "id": "dddfa126-dedf-4348-92a1-2d664e596eaa",
   "metadata": {},
   "outputs": [],
   "source": [
    "delta_lon = 0.1 #always\n",
    "delta_lat = yt_ocean-yt_ocean.roll(yt_ocean = 1, roll_coords = False)\n",
    "delta_lat[0]=delta_lat[1] #fudge the first one so that it's not negative\n"
   ]
  },
  {
   "cell_type": "code",
   "execution_count": 25,
   "id": "ba16c398-492a-469b-b9f5-1908e4b3e31b",
   "metadata": {},
   "outputs": [],
   "source": [
    "depth_grad_x = isopycnal_depth.differentiate('xt_ocean')*delta_lon/dxt\n",
    "depth_grad_y = isopycnal_depth.differentiate('yt_ocean')*delta_lat/dyt"
   ]
  },
  {
   "cell_type": "code",
   "execution_count": 26,
   "id": "19188b92-6829-48b1-bf5f-4df034638fca",
   "metadata": {},
   "outputs": [
    {
     "data": {
      "text/plain": [
       "(-55.0, -45.0)"
      ]
     },
     "execution_count": 26,
     "metadata": {},
     "output_type": "execute_result"
    },
    {
     "data": {
      "image/png": "[encoded data removed]",
      "text/plain": [
       "<Figure size 432x288 with 2 Axes>"
      ]
     },
     "metadata": {
      "needs_background": "light"
     },
     "output_type": "display_data"
    }
   ],
   "source": [
    "depth_grad_y.sel(isopycnal_bins = 1032.4, method = 'nearest').plot(vmax = 0.05, vmin = -0.05, cmap = cm.cm.balance)\n",
    "plt.xlim(10,50)\n",
    "plt.ylim(-55,-45)"
   ]
  },
  {
   "cell_type": "code",
   "execution_count": 27,
   "id": "ad68dbf4-2ee0-454a-939f-71b297e52ed1",
   "metadata": {},
   "outputs": [
    {
     "data": {
      "text/plain": [
       "(-55.0, -45.0)"
      ]
     },
     "execution_count": 27,
     "metadata": {},
     "output_type": "execute_result"
    },
    {
     "data": {
      "image/png": "[encoded data removed]",
      "text/plain": [
       "<Figure size 432x288 with 2 Axes>"
      ]
     },
     "metadata": {
      "needs_background": "light"
     },
     "output_type": "display_data"
    }
   ],
   "source": [
    "depth_grad_x.sel(isopycnal_bins = 1032.4, method = 'nearest').plot(vmax = 0.05, vmin = -0.05, cmap = cm.cm.balance)\n",
    "plt.xlim(10,50)\n",
    "plt.ylim(-55,-45)"
   ]
  },
  {
   "cell_type": "markdown",
   "id": "85f6982b-61aa-4179-bd18-4d2d4a87a912",
   "metadata": {},
   "source": [
    "save_dir = '/g/data/x77/cy8964/Post_Process/New_SO/'\n",
    "ds = xr.Dataset({'depth_grad_x': depth_grad_x,'depth_grad_y':depth_grad_y})\n",
    "ds.to_netcdf(save_dir+'SO_depth_gradient_smoothed80km.nc')\n"
   ]
  },
  {
   "cell_type": "code",
   "execution_count": 9,
   "id": "afccd3b1-9d2e-4a0e-801c-69aeb2d327fc",
   "metadata": {},
   "outputs": [],
   "source": [
    "depth_grad_x = xr.open_dataset('/g/data/x77/cy8964/Post_Process/New_SO/SO_depth_gradient_smoothed80km.nc').depth_grad_x\n",
    "depth_grad_y = xr.open_dataset('/g/data/x77/cy8964/Post_Process/New_SO/SO_depth_gradient_smoothed80km.nc').depth_grad_y"
   ]
  },
  {
   "cell_type": "code",
   "execution_count": 12,
   "id": "c542d615-76d8-4a2d-b7c8-e1196f766f3f",
   "metadata": {},
   "outputs": [
    {
     "data": {
      "text/plain": [
       "(1032.6, 1030.0)"
      ]
     },
     "execution_count": 12,
     "metadata": {},
     "output_type": "execute_result"
    },
    {
     "data": {
      "image/png": "[encoded data removed]",
      "text/plain": [
       "<Figure size 640x480 with 2 Axes>"
      ]
     },
     "metadata": {},
     "output_type": "display_data"
    }
   ],
   "source": [
    "depth_grad_y.mean('xt_ocean').plot(vmax = 0.01)\n",
    "plt.ylim(1032.6,1030)"
   ]
  },
  {
   "cell_type": "markdown",
   "id": "0a5cc692-677e-455b-ae58-f3b2ba12f0f2",
   "metadata": {},
   "source": [
    "# save along contours"
   ]
  },
  {
   "cell_type": "code",
   "execution_count": 8,
   "id": "ee010c9b-c106-4648-8978-a661258102e6",
   "metadata": {},
   "outputs": [],
   "source": [
    "contour_dict = OrderedDict([\n",
    "    ('A',  {'SSH':-0.1,'lat_range':slice(-60,-34.99),'lat_range_big':slice(-60.05,-34.90),'slope_path':'SO_slope_contour_-0.1m_SSH.npz','shifted':False}),\n",
    "    ('B',  {'SSH':-0.2,'lat_range':slice(-60,-34.99),'lat_range_big':slice(-60.05,-34.90),'slope_path':'SO_slope_contour_-0.2m_SSH.npz','shifted':False}),\n",
    "    ('C',  {'SSH':-0.3,'lat_range':slice(-60,-34.99),'lat_range_big':slice(-60.05,-34.90),'slope_path':'SO_slope_contour_-0.3m_SSH.npz','shifted':False}),\n",
    "    ('D',  {'SSH':-0.4,'lat_range':slice(-60,-34.99),'lat_range_big':slice(-60.05,-34.90),'slope_path':'SO_slope_contour_-0.4m_SSH.npz','shifted':False}),\n",
    "    ('E',  {'SSH':-0.5,'lat_range':slice(-60,-34.99),'lat_range_big':slice(-60.05,-34.90),'slope_path':'SO_slope_contour_-0.5m_SSH.npz','shifted':False}),\n",
    "    ('F',  {'SSH':-0.6, 'lat_range':slice(-60,-39.98),'lat_range_big':slice(-60.05,-39.90),'slope_path':'SO_slope_contour_-0.6m_SSH.npz','shifted':False}),\n",
    "    ('G',  {'SSH':-0.7, 'lat_range':slice(-60,-39.98),'lat_range_big':slice(-60.05,-39.90),'slope_path':'SO_slope_contour_-0.7m_SSH.npz','shifted':False}),\n",
    "    ('H',  {'SSH':-0.8, 'lat_range':slice(-62.91,-45), 'lat_range_big':slice(-62.96,-44.90),'slope_path':'SO_slope_contour_-0.8m_SSH.npz','shifted':False}),\n",
    "    ('I',  {'SSH':-0.9, 'lat_range':slice(-62.91,-45), 'lat_range_big':slice(-62.96,-44.90),'slope_path':'SO_slope_contour_-0.9m_SSH.npz','shifted':False}),\n",
    "    ('J',  {'SSH':-1.0, 'lat_range':slice(-62.91,-45), 'lat_range_big':slice(-62.96,-44.90),'slope_path':'SO_slope_contour_-1.0m_SSH.npz','shifted':False}),\n",
    "    ('K',  {'SSH':-1.1, 'lat_range':slice(-64.99,-47), 'lat_range_big':slice(-65.02,-46.93),'slope_path':'SO_slope_contour_-1.1m_SSH.npz','shifted':False}),\n",
    "    ('L',  {'SSH':-1.2, 'lat_range':slice(-64.99,-47), 'lat_range_big':slice(-65.02,-46.93),'slope_path':'SO_slope_contour_-1.2m_SSH.npz','shifted':False}),\n",
    "    ('M',  {'SSH':-1.3, 'lat_range':slice(-70,-47), 'lat_range_big':slice(-70.05,-46.93),'slope_path':'SO_slope_contour_-1.3m_SSH.npz','shifted':False}),\n",
    "    ('N',  {'SSH':-1.4, 'lat_range':slice(-70,-47), 'lat_range_big':slice(-70.05,-46.93),'slope_path':'SO_slope_contour_-1.4m_SSH.npz','shifted':False}),\n",
    "    ('O',  {'SSH':-1.5, 'lat_range':slice(-70,-47), 'lat_range_big':slice(-70.05,-46.93),'slope_path':'SO_slope_contour_-1.5m_SSH.npz','shifted':True}),\n",
    "    ('P',  {'SSH':-0.15,'lat_range':slice(-60,-34.99),'lat_range_big':slice(-60.05,-34.90),'slope_path':'SO_slope_contour_-0.15m_SSH.npz','shifted':False}),\n",
    "    ('Q',  {'SSH':-0.25,'lat_range':slice(-60,-34.99),'lat_range_big':slice(-60.05,-34.90),'slope_path':'SO_slope_contour_-0.25m_SSH.npz','shifted':False}),\n",
    "    ('R',  {'SSH':-0.35,'lat_range':slice(-60,-34.99),'lat_range_big':slice(-60.05,-34.90),'slope_path':'SO_slope_contour_-0.35m_SSH.npz','shifted':False}),\n",
    "    ('S',  {'SSH':-0.45,'lat_range':slice(-60,-34.99),'lat_range_big':slice(-60.05,-34.90),'slope_path':'SO_slope_contour_-0.45m_SSH.npz','shifted':False}),\n",
    "    ('T',  {'SSH':-0.55,'lat_range':slice(-60,-34.99),'lat_range_big':slice(-60.05,-34.90),'slope_path':'SO_slope_contour_-0.55m_SSH.npz','shifted':False}),\n",
    "    ('U',  {'SSH':-0.65, 'lat_range':slice(-60,-39.98),'lat_range_big':slice(-60.05,-39.90),'slope_path':'SO_slope_contour_-0.65m_SSH.npz','shifted':False}),\n",
    "    ('V',  {'SSH':-0.75, 'lat_range':slice(-61,-39.98),'lat_range_big':slice(-61.05,-39.90),'slope_path':'SO_slope_contour_-0.75m_SSH.npz','shifted':False}),\n",
    "    ('W',  {'SSH':-0.85,'lat_range':slice(-62.91,-45), 'lat_range_big':slice(-62.96,-44.90),'slope_path':'SO_slope_contour_-0.85m_SSH.npz','shifted':False}),\n",
    "    ('X',  {'SSH':-0.95, 'lat_range':slice(-62.91,-45), 'lat_range_big':slice(-62.96,-44.90),'slope_path':'SO_slope_contour_-0.95m_SSH.npz','shifted':False}),\n",
    "    ('Y',  {'SSH':-1.05, 'lat_range':slice(-62.91,-45), 'lat_range_big':slice(-62.96,-44.90),'slope_path':'SO_slope_contour_-1.05m_SSH.npz','shifted':False}),\n",
    "    ('Z',  {'SSH':-1.15, 'lat_range':slice(-64.99,-47), 'lat_range_big':slice(-65.02,-46.93),'slope_path':'SO_slope_contour_-1.15m_SSH.npz','shifted':False}),\n",
    "    ('Z1',  {'SSH':-1.25, 'lat_range':slice(-70,-47), 'lat_range_big':slice(-70.05,-46.93),'slope_path':'SO_slope_contour_-1.25m_SSH.npz','shifted':False}),\n",
    "    ('Z2',  {'SSH':-1.35, 'lat_range':slice(-70,-47), 'lat_range_big':slice(-70.05,-46.93),'slope_path':'SO_slope_contour_-1.35m_SSH.npz','shifted':False}),\n",
    "    ('Z3',  {'SSH':-1.45, 'lat_range':slice(-70,-47), 'lat_range_big':slice(-70.05,-46.93),'slope_path':'SO_slope_contour_-1.45m_SSH.npz','shifted':True}),\n",
    "    ('Z4',  {'SSH':-1.55, 'lat_range':slice(-70,-47), 'lat_range_big':slice(-70.05,-46.93),'slope_path':'SO_slope_contour_-1.55m_SSH_A.npz','shifted':True}),\n",
    "    ('Z5',  {'SSH':-1.55, 'lat_range':slice(-70,-47), 'lat_range_big':slice(-70.05,-46.93),'slope_path':'SO_slope_contour_-1.55m_SSH_B.npz','shifted':True}),\n",
    "    ('Z6',  {'SSH':-1.6, 'lat_range':slice(-70,-47), 'lat_range_big':slice(-70.05,-46.93),'slope_path':'SO_slope_contour_-1.6m_SSH_A.npz','shifted':True}),\n",
    "    ('Z7',  {'SSH':-1.6, 'lat_range':slice(-70,-47), 'lat_range_big':slice(-70.05,-46.93),'slope_path':'SO_slope_contour_-1.6m_SSH_B.npz','shifted':True}),\n",
    "    ('Z8',  {'SSH':-1.65, 'lat_range':slice(-70,-47), 'lat_range_big':slice(-70.05,-46.93),'slope_path':'SO_slope_contour_-1.65m_SSH_A.npz','shifted':True}),\n",
    "    ('Z9',  {'SSH':-1.65, 'lat_range':slice(-70,-47), 'lat_range_big':slice(-70.05,-46.93),'slope_path':'SO_slope_contour_-1.65m_SSH_B.npz','shifted':True}),\n",
    "])"
   ]
  },
  {
   "cell_type": "code",
   "execution_count": 12,
   "id": "1649b456-a5a8-4e4b-b1f8-55395bc33ea1",
   "metadata": {
    "collapsed": true,
    "jupyter": {
     "outputs_hidden": true,
     "source_hidden": true
    },
    "tags": []
   },
   "outputs": [
    {
     "name": "stdout",
     "output_type": "stream",
     "text": [
      "O\n",
      "Z4\n"
     ]
    },
    {
     "name": "stderr",
     "output_type": "stream",
     "text": [
      "distributed.utils_perf - WARNING - full garbage collections took 28% CPU time recently (threshold: 10%)\n",
      "distributed.utils_perf - WARNING - full garbage collections took 29% CPU time recently (threshold: 10%)\n",
      "distributed.utils_perf - WARNING - full garbage collections took 29% CPU time recently (threshold: 10%)\n",
      "distributed.utils_perf - WARNING - full garbage collections took 29% CPU time recently (threshold: 10%)\n",
      "distributed.utils_perf - WARNING - full garbage collections took 30% CPU time recently (threshold: 10%)\n",
      "distributed.utils_perf - WARNING - full garbage collections took 31% CPU time recently (threshold: 10%)\n",
      "distributed.utils_perf - WARNING - full garbage collections took 31% CPU time recently (threshold: 10%)\n",
      "distributed.utils_perf - WARNING - full garbage collections took 31% CPU time recently (threshold: 10%)\n",
      "distributed.utils_perf - WARNING - full garbage collections took 43% CPU time recently (threshold: 10%)\n"
     ]
    },
    {
     "name": "stdout",
     "output_type": "stream",
     "text": [
      "Z5\n"
     ]
    },
    {
     "name": "stderr",
     "output_type": "stream",
     "text": [
      "distributed.utils_perf - WARNING - full garbage collections took 40% CPU time recently (threshold: 10%)\n",
      "distributed.utils_perf - WARNING - full garbage collections took 38% CPU time recently (threshold: 10%)\n",
      "distributed.utils_perf - WARNING - full garbage collections took 38% CPU time recently (threshold: 10%)\n",
      "distributed.utils_perf - WARNING - full garbage collections took 37% CPU time recently (threshold: 10%)\n",
      "distributed.utils_perf - WARNING - full garbage collections took 30% CPU time recently (threshold: 10%)\n",
      "distributed.utils_perf - WARNING - full garbage collections took 30% CPU time recently (threshold: 10%)\n",
      "distributed.utils_perf - WARNING - full garbage collections took 31% CPU time recently (threshold: 10%)\n",
      "distributed.utils_perf - WARNING - full garbage collections took 31% CPU time recently (threshold: 10%)\n",
      "distributed.utils_perf - WARNING - full garbage collections took 31% CPU time recently (threshold: 10%)\n",
      "distributed.utils_perf - WARNING - full garbage collections took 31% CPU time recently (threshold: 10%)\n",
      "distributed.utils_perf - WARNING - full garbage collections took 31% CPU time recently (threshold: 10%)\n",
      "distributed.utils_perf - WARNING - full garbage collections took 30% CPU time recently (threshold: 10%)\n",
      "distributed.utils_perf - WARNING - full garbage collections took 30% CPU time recently (threshold: 10%)\n",
      "distributed.utils_perf - WARNING - full garbage collections took 32% CPU time recently (threshold: 10%)\n",
      "distributed.utils_perf - WARNING - full garbage collections took 33% CPU time recently (threshold: 10%)\n",
      "distributed.utils_perf - WARNING - full garbage collections took 33% CPU time recently (threshold: 10%)\n",
      "distributed.utils_perf - WARNING - full garbage collections took 35% CPU time recently (threshold: 10%)\n"
     ]
    },
    {
     "name": "stdout",
     "output_type": "stream",
     "text": [
      "Z6\n"
     ]
    },
    {
     "name": "stderr",
     "output_type": "stream",
     "text": [
      "distributed.utils_perf - WARNING - full garbage collections took 41% CPU time recently (threshold: 10%)\n",
      "distributed.utils_perf - WARNING - full garbage collections took 39% CPU time recently (threshold: 10%)\n",
      "distributed.utils_perf - WARNING - full garbage collections took 38% CPU time recently (threshold: 10%)\n",
      "distributed.utils_perf - WARNING - full garbage collections took 37% CPU time recently (threshold: 10%)\n",
      "distributed.utils_perf - WARNING - full garbage collections took 30% CPU time recently (threshold: 10%)\n",
      "distributed.utils_perf - WARNING - full garbage collections took 30% CPU time recently (threshold: 10%)\n",
      "distributed.utils_perf - WARNING - full garbage collections took 30% CPU time recently (threshold: 10%)\n",
      "distributed.utils_perf - WARNING - full garbage collections took 31% CPU time recently (threshold: 10%)\n",
      "distributed.utils_perf - WARNING - full garbage collections took 31% CPU time recently (threshold: 10%)\n",
      "distributed.utils_perf - WARNING - full garbage collections took 31% CPU time recently (threshold: 10%)\n",
      "distributed.utils_perf - WARNING - full garbage collections took 31% CPU time recently (threshold: 10%)\n",
      "distributed.utils_perf - WARNING - full garbage collections took 30% CPU time recently (threshold: 10%)\n",
      "distributed.utils_perf - WARNING - full garbage collections took 30% CPU time recently (threshold: 10%)\n",
      "distributed.utils_perf - WARNING - full garbage collections took 32% CPU time recently (threshold: 10%)\n",
      "distributed.utils_perf - WARNING - full garbage collections took 33% CPU time recently (threshold: 10%)\n",
      "distributed.utils_perf - WARNING - full garbage collections took 33% CPU time recently (threshold: 10%)\n",
      "distributed.utils_perf - WARNING - full garbage collections took 35% CPU time recently (threshold: 10%)\n",
      "distributed.utils_perf - WARNING - full garbage collections took 44% CPU time recently (threshold: 10%)\n"
     ]
    },
    {
     "name": "stdout",
     "output_type": "stream",
     "text": [
      "Z7\n"
     ]
    },
    {
     "name": "stderr",
     "output_type": "stream",
     "text": [
      "distributed.utils_perf - WARNING - full garbage collections took 39% CPU time recently (threshold: 10%)\n",
      "distributed.utils_perf - WARNING - full garbage collections took 38% CPU time recently (threshold: 10%)\n",
      "distributed.utils_perf - WARNING - full garbage collections took 31% CPU time recently (threshold: 10%)\n",
      "distributed.utils_perf - WARNING - full garbage collections took 31% CPU time recently (threshold: 10%)\n",
      "distributed.utils_perf - WARNING - full garbage collections took 30% CPU time recently (threshold: 10%)\n",
      "distributed.utils_perf - WARNING - full garbage collections took 30% CPU time recently (threshold: 10%)\n",
      "distributed.utils_perf - WARNING - full garbage collections took 31% CPU time recently (threshold: 10%)\n",
      "distributed.utils_perf - WARNING - full garbage collections took 31% CPU time recently (threshold: 10%)\n",
      "distributed.utils_perf - WARNING - full garbage collections took 32% CPU time recently (threshold: 10%)\n",
      "distributed.utils_perf - WARNING - full garbage collections took 30% CPU time recently (threshold: 10%)\n",
      "distributed.utils_perf - WARNING - full garbage collections took 30% CPU time recently (threshold: 10%)\n",
      "distributed.utils_perf - WARNING - full garbage collections took 30% CPU time recently (threshold: 10%)\n",
      "distributed.utils_perf - WARNING - full garbage collections took 32% CPU time recently (threshold: 10%)\n",
      "distributed.utils_perf - WARNING - full garbage collections took 33% CPU time recently (threshold: 10%)\n",
      "distributed.utils_perf - WARNING - full garbage collections took 34% CPU time recently (threshold: 10%)\n"
     ]
    },
    {
     "name": "stdout",
     "output_type": "stream",
     "text": [
      "Z8\n"
     ]
    },
    {
     "name": "stderr",
     "output_type": "stream",
     "text": [
      "distributed.utils_perf - WARNING - full garbage collections took 33% CPU time recently (threshold: 10%)\n",
      "distributed.utils_perf - WARNING - full garbage collections took 39% CPU time recently (threshold: 10%)\n",
      "distributed.utils_perf - WARNING - full garbage collections took 38% CPU time recently (threshold: 10%)\n",
      "distributed.utils_perf - WARNING - full garbage collections took 31% CPU time recently (threshold: 10%)\n",
      "distributed.utils_perf - WARNING - full garbage collections took 31% CPU time recently (threshold: 10%)\n",
      "distributed.utils_perf - WARNING - full garbage collections took 31% CPU time recently (threshold: 10%)\n",
      "distributed.utils_perf - WARNING - full garbage collections took 31% CPU time recently (threshold: 10%)\n",
      "distributed.utils_perf - WARNING - full garbage collections took 31% CPU time recently (threshold: 10%)\n",
      "distributed.utils_perf - WARNING - full garbage collections took 32% CPU time recently (threshold: 10%)\n",
      "distributed.utils_perf - WARNING - full garbage collections took 32% CPU time recently (threshold: 10%)\n",
      "distributed.utils_perf - WARNING - full garbage collections took 32% CPU time recently (threshold: 10%)\n",
      "distributed.utils_perf - WARNING - full garbage collections took 31% CPU time recently (threshold: 10%)\n",
      "distributed.utils_perf - WARNING - full garbage collections took 31% CPU time recently (threshold: 10%)\n",
      "distributed.utils_perf - WARNING - full garbage collections took 31% CPU time recently (threshold: 10%)\n",
      "distributed.utils_perf - WARNING - full garbage collections took 31% CPU time recently (threshold: 10%)\n",
      "distributed.utils_perf - WARNING - full garbage collections took 34% CPU time recently (threshold: 10%)\n",
      "distributed.utils_perf - WARNING - full garbage collections took 36% CPU time recently (threshold: 10%)\n"
     ]
    },
    {
     "name": "stdout",
     "output_type": "stream",
     "text": [
      "Z9\n"
     ]
    },
    {
     "name": "stderr",
     "output_type": "stream",
     "text": [
      "distributed.utils_perf - WARNING - full garbage collections took 32% CPU time recently (threshold: 10%)\n",
      "distributed.utils_perf - WARNING - full garbage collections took 32% CPU time recently (threshold: 10%)\n",
      "distributed.utils_perf - WARNING - full garbage collections took 32% CPU time recently (threshold: 10%)\n",
      "distributed.utils_perf - WARNING - full garbage collections took 32% CPU time recently (threshold: 10%)\n",
      "distributed.utils_perf - WARNING - full garbage collections took 32% CPU time recently (threshold: 10%)\n",
      "distributed.utils_perf - WARNING - full garbage collections took 32% CPU time recently (threshold: 10%)\n",
      "distributed.utils_perf - WARNING - full garbage collections took 32% CPU time recently (threshold: 10%)\n",
      "distributed.utils_perf - WARNING - full garbage collections took 33% CPU time recently (threshold: 10%)\n",
      "distributed.utils_perf - WARNING - full garbage collections took 32% CPU time recently (threshold: 10%)\n",
      "distributed.utils_perf - WARNING - full garbage collections took 32% CPU time recently (threshold: 10%)\n",
      "distributed.utils_perf - WARNING - full garbage collections took 33% CPU time recently (threshold: 10%)\n",
      "distributed.utils_perf - WARNING - full garbage collections took 33% CPU time recently (threshold: 10%)\n",
      "distributed.utils_perf - WARNING - full garbage collections took 32% CPU time recently (threshold: 10%)\n"
     ]
    }
   ],
   "source": [
    "for j in np.arange(28,35):\n",
    "    j_contour = np.array(['A','P','B','Q','C','R','D','S','E','T','F','U','G','V','H','W','I','X','J','Y',\n",
    "                              'K','Z','L','Z1','M','Z2','N','Z3','O','Z4','Z5','Z6','Z7','Z8','Z9'])[j]\n",
    "    print(j_contour)\n",
    "    #j_contour = np.array(['O','P','Q','R','S','T','U','V','W','X','Y','Z','Z1','Z3','Z4','Z5','Z6','Z7','Z8','Z9'])[j]\n",
    "    lat_range = contour_dict[j_contour]['lat_range']\n",
    "    lat_range_big = contour_dict[j_contour]['lat_range_big']\n",
    "    SSH = contour_dict[j_contour]['SSH']\n",
    "    \n",
    "    outfile = '/g/data/x77/cy8964/Post_Process/'+contour_dict[j_contour]['slope_path']\n",
    "    data = np.load(outfile)\n",
    "    mask_y_transport = data['mask_y_transport']\n",
    "    mask_x_transport = data['mask_x_transport']\n",
    "    mask_y_transport_numbered = data['mask_y_transport_numbered']\n",
    "    mask_x_transport_numbered = data['mask_x_transport_numbered']\n",
    "\n",
    "    if contour_dict[j_contour]['shifted']==True:\n",
    "        yt_ocean = cc.querying.getvar(expt,'yt_ocean',session,n=1)\n",
    "        yt_ocean = yt_ocean.sel(yt_ocean=lat_range)\n",
    "        yu_ocean = cc.querying.getvar(expt,'yu_ocean',session,n=1)\n",
    "        yu_ocean = yu_ocean.sel(yu_ocean=lat_range)\n",
    "\n",
    "        xt_ocean = cc.querying.getvar(expt, 'xt_ocean', session, n=1)\n",
    "        xt_ocean = xt_ocean.roll(xt_ocean = 800)\n",
    "        xt_ocean.coords['xt_ocean']=np.linspace(0.05,359.95,3600)\n",
    "        xt_ocean = xt_ocean*0+xt_ocean.xt_ocean.values\n",
    "\n",
    "        xu_ocean = cc.querying.getvar(expt, 'xu_ocean', session, n=1)\n",
    "        xu_ocean = xu_ocean.roll(xu_ocean = 800)\n",
    "        xu_ocean.coords['xu_ocean']=np.linspace(0.1,360,3600)\n",
    "        xu_ocean = xu_ocean*0+xu_ocean.xu_ocean.values\n",
    "        \n",
    "        dyt = cc.querying.getvar(expt, 'dyt',session, n=1, ncfile = 'ocean_grid.nc')\n",
    "        dyt = dyt.roll(xt_ocean = 800)\n",
    "        dyt.coords['xt_ocean']=np.linspace(0.05,359.95,3600)\n",
    "\n",
    "        dxu = cc.querying.getvar(expt, 'dxu',session, n=1, ncfile = 'ocean_grid.nc')\n",
    "        dxu = dxu.roll(xu_ocean = 800)\n",
    "        dxu.coords['xu_ocean']=np.linspace(0.1,360,3600)\n",
    "        \n",
    "        # select latitude range:\n",
    "        dxu = dxu.sel(yu_ocean=lat_range)\n",
    "        dyt = dyt.sel(yt_ocean=lat_range)\n",
    "\n",
    "    elif contour_dict[j_contour]['shifted']==False:\n",
    "        yt_ocean = cc.querying.getvar(expt, 'yt_ocean', session, n=1)\n",
    "        yt_ocean = yt_ocean.sel(yt_ocean=lat_range)\n",
    "        yu_ocean = cc.querying.getvar(expt, 'yu_ocean', session, n=1)\n",
    "        yu_ocean = yu_ocean.sel(yu_ocean=lat_range)\n",
    "\n",
    "        xt_ocean = cc.querying.getvar(expt, 'xt_ocean', session, n=1)\n",
    "        xu_ocean = cc.querying.getvar(expt, 'xu_ocean', session, n=1)\n",
    "\n",
    "        dyt = cc.querying.getvar(expt,'dyt',session,ncfile = 'ocean_grid.nc',n=1)\n",
    "        dyt = dyt.sel(yt_ocean = lat_range)\n",
    "        dxt = cc.querying.getvar(expt,'dxt',session,ncfile = 'ocean_grid.nc',n=1)\n",
    "        dxt = dxt.sel(yt_ocean = lat_range)\n",
    "\n",
    "        dxu = cc.querying.getvar(expt,'dxu',session,ncfile = 'ocean_grid.nc',n=1)\n",
    "        dxu = dxu.sel(yu_ocean = lat_range)\n",
    "\n",
    "    dyt = dyt.reset_coords().dyt # remove geolon_t/geolat_t coordinates\n",
    "    dxu = dxu.reset_coords().dxu # remove geolon_t/geolat_t coordinates\n",
    "    dxu.coords['xu_ocean'] = xt_ocean.values\n",
    "    dxu = dxu.rename({'yu_ocean':'y_ocean', 'xu_ocean':'x_ocean'}) \n",
    "    dyt.coords['xt_ocean'] = xu_ocean.values\n",
    "    dyt = dyt.rename({'yt_ocean':'y_ocean','xt_ocean':'x_ocean'})\n",
    "\n",
    "    # Convert contour masks to data arrays, so we can multiply them later.\n",
    "    # We need to ensure the lat lon coordinates correspond to the actual data location:\n",
    "    #       The y masks are used for vhrho, so like vhrho this should have dimensions (yu_ocean, xt_ocean).\n",
    "    #       The x masks are used for uhrho, so like uhrho this should have dimensions (yt_ocean, xu_ocean).\n",
    "    #       However the actual name will always be simply y_ocean/x_ocean irrespective of the variable\n",
    "    #       to make concatenation of transports in both direction and sorting possible.\n",
    "\n",
    "    mask_x_transport = xr.DataArray(mask_x_transport, coords = [('y_ocean', yt_ocean), ('x_ocean', xu_ocean)])\n",
    "    mask_y_transport = xr.DataArray(mask_y_transport, coords = [('y_ocean', yu_ocean), ('x_ocean', xt_ocean)])\n",
    "    mask_x_transport_numbered = xr.DataArray(mask_x_transport_numbered, coords = [('y_ocean', yt_ocean), ('x_ocean', xu_ocean)])\n",
    "    mask_y_transport_numbered = xr.DataArray(mask_y_transport_numbered, coords = [('y_ocean', yu_ocean), ('x_ocean', xt_ocean)])\n",
    "\n",
    "    mask_x_numbered_1d = mask_x_transport_numbered.stack(contour_index = ['y_ocean', 'x_ocean'])\n",
    "    mask_x_numbered_1d = mask_x_numbered_1d.where(mask_x_numbered_1d > 0, drop = True)\n",
    "    mask_y_numbered_1d = mask_y_transport_numbered.stack(contour_index = ['y_ocean', 'x_ocean'])\n",
    "    mask_y_numbered_1d = mask_y_numbered_1d.where(mask_y_numbered_1d > 0, drop = True)\n",
    "    contour_ordering = xr.concat((mask_x_numbered_1d,mask_y_numbered_1d), dim = 'contour_index')\n",
    "    contour_ordering = contour_ordering.sortby(contour_ordering)\n",
    "    contour_index_array = np.arange(1,len(contour_ordering)+1)\n",
    "    \n",
    "    salt = depth_grad_x.sel(yt_ocean = lat_range)\n",
    "    \n",
    "    if contour_dict[j_contour]['shifted']==True:\n",
    "        salt = salt.roll(xt_ocean = 800)\n",
    "        salt.coords['xt_ocean']=np.linspace(0.05,359.95,3600)\n",
    "\n",
    "    #inititalise empty array\n",
    "    vol_trans_across_contour = xr.DataArray(np.zeros((len(salt.isopycnal_bins),len(contour_index_array))),\n",
    "                                      coords = [salt.isopycnal_bins, contour_index_array],\n",
    "                                      dims = ['isopycnal_bins', 'contour_index'],\n",
    "                                      name = 'salt_along_contour')\n",
    "\n",
    "    salt_i = salt.rename({'yt_ocean':'y_ocean', 'xt_ocean':'x_ocean'}) \n",
    "\n",
    "    # Note that this interpolation does not work as generically as e.g. salt.interp(),\n",
    "    #    but it is much faster and doesn't require removing chunking (which also slow things down).\n",
    "    # Be careful that your latitude range extends at least one point either direction beyond your contour.\n",
    "    # If your domain is not the full longitude range, you will need to adapt this, so you have the correct interpolation\n",
    "    #    only the edges of your domain (it assumes it is reentrant).\n",
    "    # Need to overwrite coords, so these two variables can be added together:\n",
    "    salt_w = salt_i.copy()\n",
    "    salt_w.coords['x_ocean'] = xu_ocean.values\n",
    "    salt_e = salt_i.roll(x_ocean=-1)\n",
    "    salt_e.coords['x_ocean'] = xu_ocean.values\n",
    "    # salt_xgrid will be on the uhrho grid:\n",
    "    salt_xgrid = ((salt_e + salt_w)/2)*mask_x_transport\n",
    "    \n",
    "    salt = depth_grad_y.sel(yt_ocean = lat_range)\n",
    "    if contour_dict[j_contour]['shifted']==True:\n",
    "        salt = salt.roll(xt_ocean = 800)\n",
    "        salt.coords['xt_ocean']=np.linspace(0.05,359.95,3600)\n",
    "\n",
    "    salt_i = salt.rename({'yt_ocean':'y_ocean', 'xt_ocean':'x_ocean'}) \n",
    "    salt_s = salt_i.copy()\n",
    "    salt_s.coords['y_ocean'] = yu_ocean.values\n",
    "    salt_n = salt_i.roll(y_ocean=-1)\n",
    "    salt_n.coords['y_ocean'] = yu_ocean.values\n",
    "    # salt_ygrid will be on the vhrho grid:\n",
    "    salt_ygrid = ((salt_s + salt_n)/2)*mask_y_transport\n",
    "\n",
    "    x_transport_1d_i = salt_xgrid.stack(contour_index = ['y_ocean', 'x_ocean'])\n",
    "    x_transport_1d_i = x_transport_1d_i.where(mask_x_numbered_1d>0, drop = True)\n",
    "    y_transport_1d_i = salt_ygrid.stack(contour_index = ['y_ocean', 'x_ocean'])\n",
    "    y_transport_1d_i = y_transport_1d_i.where(mask_y_numbered_1d>0, drop = True)\n",
    "\n",
    "    # combine all points on contour:\n",
    "    vol_trans_across_contour_i = xr.concat((x_transport_1d_i, y_transport_1d_i), dim = 'contour_index')\n",
    "    vol_trans_across_contour_i = vol_trans_across_contour_i.sortby(contour_ordering)\n",
    "    vol_trans_across_contour_i.coords['contour_index'] = contour_index_array\n",
    "    vol_trans_across_contour_i = vol_trans_across_contour_i.load()\n",
    "    \n",
    "    # write into larger array:\n",
    "    vol_trans_across_contour[:,:] = vol_trans_across_contour_i\n",
    "\n",
    "    depth_grad_contour = vol_trans_across_contour\n",
    "    \n",
    "    save_dir = '/g/data/x77/cy8964/Post_Process/New_SO/'\n",
    "    ds = xr.Dataset({'depth_grad_contour': depth_grad_contour})\n",
    "    ds.to_netcdf(save_dir+'SO_'+j_contour+'_contour_depth_gradient_smoothed80km.nc')\n",
    "\n",
    "\n",
    "\n"
   ]
  }
 ],
 "metadata": {
  "kernelspec": {
   "display_name": "Python [conda env:analysis3-21.04]",
   "language": "python",
   "name": "conda-env-analysis3-21.04-py"
  },
  "language_info": {
   "codemirror_mode": {
    "name": "ipython",
    "version": 3
   },
   "file_extension": ".py",
   "mimetype": "text/x-python",
   "name": "python",
   "nbconvert_exporter": "python",
   "pygments_lexer": "ipython3",
   "version": "3.8.10"
  }
 },
 "nbformat": 4,
 "nbformat_minor": 5
}
