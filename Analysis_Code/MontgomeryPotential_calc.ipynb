{
 "cells": [
  {
   "cell_type": "markdown",
   "id": "0b67d713",
   "metadata": {},
   "source": [
    "# Montgomery Potential of Southern Ocean\n",
    "\n",
    "Calculating interface heights between density surfaces and then the Montgomery Potential (layered model equivalent to pressure) anomaly from a reference Montgomery Potential of the 10 year time mean interface depths.\n",
    "\n",
    "Takes about 30 mins per month, did it for 10 years as of 17/7/21. Doesn't need 48 cores of CPU but does need a lot of memory."
   ]
  },
  {
   "cell_type": "code",
   "execution_count": 1,
   "id": "9622cb4f",
   "metadata": {},
   "outputs": [],
   "source": [
    "%matplotlib inline\n",
    "\n",
    "import cosima_cookbook as cc\n",
    "import matplotlib.pyplot as plt\n",
    "import numpy as np\n",
    "import netCDF4 as nc\n",
    "import xarray as xr\n",
    "import cftime\n",
    "import glob\n",
    "import dask\n",
    "import os\n",
    "import datetime\n",
    "import matplotlib.colors as col\n",
    "import dask.array as dsa\n",
    "from cosima_cookbook import distributed as ccd\n",
    "import cartopy.crs as ccrs\n",
    "import cmocean as cm\n",
    "from scipy.ndimage.filters import uniform_filter1d\n",
    "\n",
    "import logging\n",
    "logging.captureWarnings(True)\n",
    "logging.getLogger('py.warnings').setLevel(logging.ERROR)\n",
    "\n",
    "from dask.distributed import Client"
   ]
  },
  {
   "cell_type": "markdown",
   "id": "28b49b1e",
   "metadata": {},
   "source": [
    "### Start up dask cluster and cosima cookbook session"
   ]
  },
  {
   "cell_type": "code",
   "execution_count": 2,
   "id": "a86852c7",
   "metadata": {},
   "outputs": [
    {
     "data": {
      "text/html": [
       "<table style=\"border: 2px solid white;\">\n",
       "<tr>\n",
       "<td style=\"vertical-align: top; border: 0px solid white\">\n",
       "<h3 style=\"text-align: left;\">Client</h3>\n",
       "<ul style=\"text-align: left; list-style: none; margin: 0; padding: 0;\">\n",
       "  <li><b>Scheduler: </b>tcp://127.0.0.1:33095</li>\n",
       "  <li><b>Dashboard: </b><a href='/proxy/8787/status' target='_blank'>/proxy/8787/status</a></li>\n",
       "</ul>\n",
       "</td>\n",
       "<td style=\"vertical-align: top; border: 0px solid white\">\n",
       "<h3 style=\"text-align: left;\">Cluster</h3>\n",
       "<ul style=\"text-align: left; list-style:none; margin: 0; padding: 0;\">\n",
       "  <li><b>Workers: </b>7</li>\n",
       "  <li><b>Cores: </b>28</li>\n",
       "  <li><b>Memory: </b>112.00 GiB</li>\n",
       "</ul>\n",
       "</td>\n",
       "</tr>\n",
       "</table>"
      ],
      "text/plain": [
       "<Client: 'tcp://127.0.0.1:33095' processes=7 threads=28, memory=112.00 GiB>"
      ]
     },
     "execution_count": 2,
     "metadata": {},
     "output_type": "execute_result"
    }
   ],
   "source": [
    "client = Client()\n",
    "client"
   ]
  },
  {
   "cell_type": "code",
   "execution_count": 3,
   "id": "277122f7",
   "metadata": {},
   "outputs": [],
   "source": [
    "session = cc.database.create_session('/g/data/ik11/databases/cosima_master.db')"
   ]
  },
  {
   "cell_type": "markdown",
   "id": "b8a7e7c5",
   "metadata": {},
   "source": [
    "### Define what month and year you want"
   ]
  },
  {
   "cell_type": "code",
   "execution_count": 4,
   "id": "c04735d1",
   "metadata": {},
   "outputs": [],
   "source": [
    "month = '02'\n",
    "year = '2170'"
   ]
  },
  {
   "cell_type": "markdown",
   "id": "af2cb8e8",
   "metadata": {},
   "source": [
    "### Define some slicing parameters"
   ]
  },
  {
   "cell_type": "code",
   "execution_count": 5,
   "id": "dffab715",
   "metadata": {},
   "outputs": [],
   "source": [
    "expt = '01deg_jra55v13_ryf9091'\n",
    "\n",
    "time_slice= year + '-' + month\n",
    "start_time = year+'-01-01'\n",
    "end_time = year+'12-31'\n",
    "# reference density value:\n",
    "rho_0 = 1035.0\n",
    "g = 9.81\n",
    "\n",
    "#latitude range of Southern Ocean\n",
    "## FULL SO ##\n",
    "lat_range = slice(-70,-34.99)\n",
    "lat_range_big =  slice(-70.05,-34.90)\n"
   ]
  },
  {
   "cell_type": "markdown",
   "id": "1b0f9b66",
   "metadata": {},
   "source": [
    "### Load one month of saved binned daily isopycnal layer thickness data"
   ]
  },
  {
   "cell_type": "code",
   "execution_count": 8,
   "id": "3c50fd35",
   "metadata": {},
   "outputs": [
    {
     "name": "stdout",
     "output_type": "stream",
     "text": [
      "CPU times: user 39.1 ms, sys: 0 ns, total: 39.1 ms\n",
      "Wall time: 80 ms\n"
     ]
    }
   ],
   "source": [
    "%%time\n",
    "\n",
    "saved_dir = '/g/data/x77/cy8964/Post_Process/New_SO/SO_saving_energy_terms_'\n",
    "chunky = {\"time\":1,\"isopycnal_bins\":5,\"yt_ocean\":218,\"xt_ocean\":400 }\n",
    "#month = '01'\n",
    "h_binned = xr.open_dataset(saved_dir+'h_binned_'+year+'-'+month+'_test.nc', chunks = chunky).h_binned\n",
    "\n",
    "# to scale up to a whole year:\n",
    "\n",
    "# for i in np.arange(2,13):\n",
    "#     month = str(i).zfill(2)\n",
    "#     h_binned_i = xr.open_dataset(saved_dir+'h_binned_'+year+'-'+month+'.nc', chunks = chunky)\n",
    "#     h_binned_i = h_binned_i.h_binned\n",
    "\n",
    "#     h_binned = xr.concat([h_binned,h_binned_i], dim = 'time')\n",
    "\n"
   ]
  },
  {
   "cell_type": "markdown",
   "id": "6c9e21d6",
   "metadata": {},
   "source": [
    "### Load one month of cosima cookbook daily eta_t"
   ]
  },
  {
   "cell_type": "code",
   "execution_count": 9,
   "id": "44b619cb",
   "metadata": {},
   "outputs": [
    {
     "name": "stdout",
     "output_type": "stream",
     "text": [
      "CPU times: user 578 ms, sys: 0 ns, total: 578 ms\n",
      "Wall time: 6.46 s\n"
     ]
    }
   ],
   "source": [
    "%%time\n",
    "# Load eta_t for given year\n",
    "eta_t = cc.querying.getvar(expt,'eta_t',session,ncfile='%daily%',start_time=start_time, end_time=end_time)\n",
    "eta_t = eta_t.sel(yt_ocean=lat_range, time=time_slice)#slice(start_time,end_time))"
   ]
  },
  {
   "cell_type": "markdown",
   "id": "5f03d7f0",
   "metadata": {},
   "source": [
    "### Load saved long term (10 year) means of sea surface height and layer thickness"
   ]
  },
  {
   "cell_type": "code",
   "execution_count": 12,
   "id": "7c6b472c",
   "metadata": {},
   "outputs": [
    {
     "name": "stdout",
     "output_type": "stream",
     "text": [
      "CPU times: user 632 ms, sys: 81.2 ms, total: 713 ms\n",
      "Wall time: 1.47 s\n"
     ]
    }
   ],
   "source": [
    "%%time\n",
    "ssh = cc.querying.getvar(expt,'eta_t',session,ncfile='%daily%',start_time='2170-01-01', end_time='2179-12-31')\n",
    "ssh = ssh.sel(yt_ocean=lat_range, time=slice('2170-01-01','2179-12-31'))"
   ]
  },
  {
   "cell_type": "markdown",
   "id": "97dc4e8a-9fc6-4e8b-b047-3f98eb90e147",
   "metadata": {},
   "source": [
    "%%time\n",
    "ssh_avg = ssh.mean('time')\n",
    "ssh_avg = ccd.compute_by_block(ssh_avg)\n",
    "save_dir = '/g/data/x77/cy8964/Post_Process/New_SO/'\n",
    "ds = xr.Dataset({'eta_t': ssh_avg})\n",
    "ds.to_netcdf(save_dir+'ssh_avg_10yr.nc')"
   ]
  },
  {
   "cell_type": "code",
   "execution_count": 11,
   "id": "7f43e1aa",
   "metadata": {},
   "outputs": [
    {
     "name": "stdout",
     "output_type": "stream",
     "text": [
      "CPU times: user 37.8 ms, sys: 0 ns, total: 37.8 ms\n",
      "Wall time: 99.2 ms\n"
     ]
    }
   ],
   "source": [
    "%%time\n",
    "# Load saved h_bar and ssh_avg\n",
    "\n",
    "chunky2 = {\"isopycnal_bins\":5,\"yt_ocean\":218,\"xt_ocean\":400 }\n",
    "saved_dir2 = '/g/data/x77/cy8964/Post_Process/New_SO/'\n",
    "h_binned_mean = xr.open_dataset(saved_dir2+'h_bar_10yr.nc', chunks = chunky2).h_bar\n",
    "ssh_avg = xr.open_dataset(saved_dir2+'ssh_avg_10yr.nc',chunks = {\"yt_ocean\":218,\"xt_ocean\":400 }).ssh_avg\n",
    "\n",
    "\n"
   ]
  },
  {
   "cell_type": "markdown",
   "id": "0a42a1ca",
   "metadata": {},
   "source": [
    "### Define g prime values for Montgomery potential calculation"
   ]
  },
  {
   "cell_type": "code",
   "execution_count": 12,
   "id": "517fed70",
   "metadata": {},
   "outputs": [
    {
     "name": "stdout",
     "output_type": "stream",
     "text": [
      "CPU times: user 1.41 ms, sys: 0 ns, total: 1.41 ms\n",
      "Wall time: 1.24 ms\n"
     ]
    }
   ],
   "source": [
    "%%time\n",
    "## define isopycnal bins   \n",
    "isopycnal_bins_sigma1 = 1000+ np.array([1,28,29,30,31,31.5,31.9,32,32.1,32.2,32.25,32.3,\n",
    "                                        32.35,32.4,32.42,32.44,32.46,32.48,32.50,32.51,\n",
    "                                        32.52,32.53,32.54,32.55,32.56,32.58,32.6,32.8,33,34,45])\n",
    "## since bins are edges of bins, define middle densities to be used in \n",
    "middle_density = (isopycnal_bins_sigma1+ np.roll(isopycnal_bins_sigma1, -1))/2\n",
    "middle_density[0]=1028.5\n",
    "middle_density[-2]=1034.5\n",
    "middle_density[-1]=1035\n",
    "\n",
    "## define g primes - set g_prime[0] to be g\n",
    "g_prime = g*(middle_density - np.roll(middle_density, 1))/rho_0\n",
    "g_prime[0]=g\n",
    "g_prime = xr.DataArray(g_prime, coords = [isopycnal_bins_sigma1], dims = ['isopycnal_bins'], name = 'g_prime')\n",
    "                                             \n",
    "\n"
   ]
  },
  {
   "cell_type": "markdown",
   "id": "c32a063a",
   "metadata": {},
   "source": [
    "### Find reference depth for each interface, long term mean (this only has to happen once)\n",
    "\n",
    "For top layer (index isopycnal_bins = 0), depth is ssh_avg. For other layers, cumulatively sum the thickness of the layers above that interface. Do this by rolling so that thickness of layer 0 is in entry of layer 1, select isopycnal bins 1 and onwards with sel, then cumulatively sum."
   ]
  },
  {
   "cell_type": "code",
   "execution_count": 13,
   "id": "7453d040",
   "metadata": {
    "tags": []
   },
   "outputs": [
    {
     "name": "stdout",
     "output_type": "stream",
     "text": [
      "CPU times: user 50.7 ms, sys: 0 ns, total: 50.7 ms\n",
      "Wall time: 46.4 ms\n"
     ]
    }
   ],
   "source": [
    "%%time\n",
    "#average top of interface heights (.roll is so that all h's get summed from top density bin, otherwise would miss top density bin's h value)\n",
    "eta_ref = h_binned_mean.roll(isopycnal_bins = 1,roll_coords = False ).sel(isopycnal_bins = slice(1020,1050)).cumsum('isopycnal_bins')\n",
    "eta_ref_0 = xr.zeros_like(h_binned_mean.isel(isopycnal_bins=0))\n",
    "eta_ref = xr.concat([eta_ref_0,eta_ref], dim = 'isopycnal_bins')\n",
    "eta_ref = eta_ref+ssh_avg"
   ]
  },
  {
   "cell_type": "code",
   "execution_count": 14,
   "id": "12d9926e",
   "metadata": {
    "tags": []
   },
   "outputs": [
    {
     "data": {
      "application/vnd.jupyter.widget-view+json": {
       "model_id": "",
       "version_major": 2,
       "version_minor": 0
      },
      "text/plain": [
       "  0%|          | 0/216 [00:00<?, ?it/s]"
      ]
     },
     "metadata": {},
     "output_type": "display_data"
    },
    {
     "name": "stdout",
     "output_type": "stream",
     "text": [
      "CPU times: user 16.6 s, sys: 1.35 s, total: 18 s\n",
      "Wall time: 42 s\n"
     ]
    }
   ],
   "source": [
    "%%time\n",
    "eta_ref = ccd.compute_by_block(eta_ref)"
   ]
  },
  {
   "cell_type": "code",
   "execution_count": 15,
   "id": "dd0a460f",
   "metadata": {
    "tags": []
   },
   "outputs": [
    {
     "name": "stdout",
     "output_type": "stream",
     "text": [
      "CPU times: user 224 ms, sys: 362 ms, total: 586 ms\n",
      "Wall time: 607 ms\n"
     ]
    }
   ],
   "source": [
    "%%time\n",
    "\n",
    "save_dir = '/g/data/x77/cy8964/Post_Process/New_SO/'\n",
    "ds = xr.Dataset({'eta_ref': eta_ref})\n",
    "ds.to_netcdf(save_dir+'eta_ref_10yr.nc')"
   ]
  },
  {
   "cell_type": "code",
   "execution_count": 22,
   "id": "614552cb",
   "metadata": {
    "tags": []
   },
   "outputs": [],
   "source": [
    "%xdel eta_ref\n",
    "%xdel h_binned_mean\n",
    "%xdel ssh_avg"
   ]
  },
  {
   "cell_type": "code",
   "execution_count": 23,
   "id": "67c7114d",
   "metadata": {},
   "outputs": [
    {
     "name": "stdout",
     "output_type": "stream",
     "text": [
      "CPU times: user 17.6 ms, sys: 2.72 ms, total: 20.3 ms\n",
      "Wall time: 18.5 ms\n"
     ]
    }
   ],
   "source": [
    "%%time\n",
    "\n",
    "\n",
    "eta_ref = xr.open_dataset('/g/data/x77/cy8964/Post_Process/SO/eta_ref_10yr.nc', \n",
    "                           chunks = {'isopycnal;_bins':5,'yt_ocean':218,'xt_ocean':400}).eta_ref"
   ]
  },
  {
   "cell_type": "markdown",
   "id": "27df19de",
   "metadata": {},
   "source": [
    "### Find depth as a function of time for each interface, then subtract reference depth to find interface anomaly etas\n",
    "As before, but these have a time dimension and the subtraction of the long term mean."
   ]
  },
  {
   "cell_type": "code",
   "execution_count": 16,
   "id": "b9ec521e",
   "metadata": {},
   "outputs": [
    {
     "name": "stdout",
     "output_type": "stream",
     "text": [
      "CPU times: user 298 ms, sys: 19 ms, total: 317 ms\n",
      "Wall time: 313 ms\n"
     ]
    }
   ],
   "source": [
    "%%time\n",
    "# deviation from top of interface height from average\n",
    "etas = h_binned.roll(isopycnal_bins = 1,roll_coords = False ).sel(isopycnal_bins = slice(1020,1050)).cumsum('isopycnal_bins')\n",
    "etas_0 = xr.zeros_like(h_binned.isel(isopycnal_bins=0))\n",
    "etas = xr.concat([etas_0,etas], dim = 'isopycnal_bins')\n",
    "etas = etas+eta_t-eta_ref"
   ]
  },
  {
   "cell_type": "markdown",
   "id": "01a1d52c",
   "metadata": {},
   "source": [
    "### For some reason this is very intensive. Hence use ccd.compute_by_block so that memory usage is more controlled. Still takes a while."
   ]
  },
  {
   "cell_type": "code",
   "execution_count": 17,
   "id": "77f8ab0a",
   "metadata": {},
   "outputs": [
    {
     "data": {
      "application/vnd.jupyter.widget-view+json": {
       "model_id": "",
       "version_major": 2,
       "version_minor": 0
      },
      "text/plain": [
       "  0%|          | 0/9408 [00:00<?, ?it/s]"
      ]
     },
     "metadata": {},
     "output_type": "display_data"
    },
    {
     "name": "stdout",
     "output_type": "stream",
     "text": [
      "CPU times: user 16min 3s, sys: 51.8 s, total: 16min 55s\n",
      "Wall time: 27min 35s\n"
     ]
    }
   ],
   "source": [
    "%%time\n",
    "etas = ccd.compute_by_block(etas)"
   ]
  },
  {
   "cell_type": "markdown",
   "id": "1691275c",
   "metadata": {},
   "source": [
    "### Save the etas as a file and then delete it and reopen it."
   ]
  },
  {
   "cell_type": "code",
   "execution_count": 18,
   "id": "f2c12fc7",
   "metadata": {},
   "outputs": [
    {
     "name": "stdout",
     "output_type": "stream",
     "text": [
      "CPU times: user 47.5 ms, sys: 10.4 s, total: 10.5 s\n",
      "Wall time: 19 s\n"
     ]
    }
   ],
   "source": [
    "%%time\n",
    "\n",
    "save_dir = '/g/data/x77/cy8964/Post_Process/SO/'\n",
    "ds = xr.Dataset({'etas': etas})\n",
    "ds.to_netcdf(save_dir+'etas_'+year+'-'+month+'.nc')\n",
    "\n"
   ]
  },
  {
   "cell_type": "code",
   "execution_count": 19,
   "id": "5be2d925",
   "metadata": {},
   "outputs": [
    {
     "name": "stdout",
     "output_type": "stream",
     "text": [
      "NameError: name 'h_binned_mean' is not defined\n",
      "NameError: name 'ssh_avg' is not defined\n",
      "CPU times: user 22.7 ms, sys: 1.42 ms, total: 24.2 ms\n",
      "Wall time: 25.3 ms\n"
     ]
    }
   ],
   "source": [
    "%%time\n",
    "%xdel etas\n",
    "%xdel h_binned\n",
    "%xdel eta_ref\n",
    "%xdel h_binned_mean\n",
    "%xdel ssh_avg\n",
    "\n",
    "etas = xr.open_dataset('/g/data/x77/cy8964/Post_Process/SO/etas_'+year+'-'+month+'.nc', \n",
    "                           chunks = {'time':1, 'isopycnal;_bins':5,'yt_ocean':218,'xt_ocean':400}).etas\n",
    "\n"
   ]
  },
  {
   "cell_type": "markdown",
   "id": "c9d60a17",
   "metadata": {},
   "source": [
    "### Calculate the Montgomery Potential anomaly, phi\n",
    "\n",
    "For layer 0, this is g * etas\n",
    "\n",
    "For layers below, it is g prime * etas + MP_anomaly above. I set the first entry of g_prime to be g so I can just multiply by g_prime for all layers"
   ]
  },
  {
   "cell_type": "code",
   "execution_count": 20,
   "id": "263737e7",
   "metadata": {},
   "outputs": [
    {
     "name": "stdout",
     "output_type": "stream",
     "text": [
      "CPU times: user 20.1 ms, sys: 2 ms, total: 22.1 ms\n",
      "Wall time: 21.9 ms\n"
     ]
    }
   ],
   "source": [
    "%%time\n",
    "\n",
    "# compute MP anomaly\n",
    "phi = rho_0*g_prime*etas\n",
    "phi = phi.cumsum('isopycnal_bins')\n",
    "\n"
   ]
  },
  {
   "cell_type": "code",
   "execution_count": 21,
   "id": "dea638b2",
   "metadata": {},
   "outputs": [
    {
     "data": {
      "application/vnd.jupyter.widget-view+json": {
       "model_id": "",
       "version_major": 2,
       "version_minor": 0
      },
      "text/plain": [
       "  0%|          | 0/756 [00:00<?, ?it/s]"
      ]
     },
     "metadata": {},
     "output_type": "display_data"
    },
    {
     "name": "stdout",
     "output_type": "stream",
     "text": [
      "CPU times: user 48.6 s, sys: 15.2 s, total: 1min 3s\n",
      "Wall time: 1min 49s\n"
     ]
    }
   ],
   "source": [
    "%%time\n",
    "phi = ccd.compute_by_block(phi)"
   ]
  },
  {
   "cell_type": "code",
   "execution_count": 22,
   "id": "abe822eb",
   "metadata": {},
   "outputs": [
    {
     "name": "stdout",
     "output_type": "stream",
     "text": [
      "CPU times: user 42.9 ms, sys: 10 s, total: 10.1 s\n",
      "Wall time: 15.3 s\n"
     ]
    }
   ],
   "source": [
    "%%time\n",
    "\n",
    "save_dir = '/g/data/x77/cy8964/Post_Process/SO/'\n",
    "ds = xr.Dataset({'phi': phi})\n",
    "ds.to_netcdf(save_dir+'Montgomery_Potential_Anomaly_'+year+'-'+month+'.nc')"
   ]
  },
  {
   "cell_type": "code",
   "execution_count": null,
   "id": "00f0d265",
   "metadata": {},
   "outputs": [],
   "source": []
  }
 ],
 "metadata": {
  "kernelspec": {
   "display_name": "Python [conda env:analysis3-21.04]",
   "language": "python",
   "name": "conda-env-analysis3-21.04-py"
  },
  "language_info": {
   "codemirror_mode": {
    "name": "ipython",
    "version": 3
   },
   "file_extension": ".py",
   "mimetype": "text/x-python",
   "name": "python",
   "nbconvert_exporter": "python",
   "pygments_lexer": "ipython3",
   "version": "3.8.10"
  }
 },
 "nbformat": 4,
 "nbformat_minor": 5
}
